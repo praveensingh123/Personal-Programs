{
 "cells": [
  {
   "cell_type": "markdown",
   "metadata": {},
   "source": [
    "# Implemenation of Vanilla Neural Network for Classification on MNIST dataset "
   ]
  },
  {
   "cell_type": "markdown",
   "metadata": {},
   "source": [
    "## Implementation of Neural Network"
   ]
  },
  {
   "cell_type": "markdown",
   "metadata": {},
   "source": [
    "### Sigmoid activation function and it's derivative "
   ]
  },
  {
   "cell_type": "code",
   "execution_count": 1,
   "metadata": {},
   "outputs": [],
   "source": [
    "def sigmoid(x):\n",
    "    return 1./(1 + np.exp(-x))\n",
    "\n",
    "def deriv_sigmoid(x):\n",
    "    return (x)*(1-(x))\n",
    "\n",
    "def relu(x):\n",
    "    x[x<0.0] = 0.0\n",
    "    return x\n",
    "\n",
    "def deriv_relu(x):\n",
    "    x[x>0.0] = 1.0\n",
    "    return x"
   ]
  },
  {
   "cell_type": "markdown",
   "metadata": {},
   "source": [
    "### Neural network class for forward propagation/backward propagation"
   ]
  },
  {
   "cell_type": "code",
   "execution_count": 2,
   "metadata": {},
   "outputs": [],
   "source": [
    "class Neural_Network(object):\n",
    "    \"\"\"\n",
    "    Args: input_dim:        this is for input dimension of data\n",
    "          hidden_units:     list of number of hidden units in each layer \n",
    "          classes:          Number of classes  (in Iris dataset it is 3)\n",
    "          num_layers:       Number of hidden layers\n",
    "          dropout_percent:  Dropout percent (if 0.1, it means drop 10% of neurons are dropped)\n",
    "          reg:              this is a regularization term used for preventing overfitting, if needed use it.\n",
    "          learning_rate:    This is a learning parameter used for Stochastic gradient descent update\n",
    "          hid_act:          In this task sigmoid neurons\n",
    "          hid_act_derivative: This is a derivative of sigmoid neuron used for back propagation\n",
    "    \"\"\"\n",
    "    def __init__(self, input_dim=4, hidden_units=[200], classes=10, num_layers=1, \n",
    "                 dropout_percent = 0.1, reg=0.0, learning_rate=0.1, hid_act=relu, \n",
    "                 hid_act_derivative=deriv_relu):\n",
    "        \n",
    "        self.input_dim= input_dim\n",
    "        self.hidden_units = hidden_units\n",
    "        self.classes = classes\n",
    "        self.learning_rate = learning_rate\n",
    "        self.num_layers=num_layers\n",
    "        self.dropout_percent = dropout_percent\n",
    "        self.hid_act = hid_act\n",
    "        self.hid_act_derivative = hid_act_derivative\n",
    "        self.reg = reg\n",
    "        self.make_network()\n",
    "        \n",
    "    def make_network(self):\n",
    "        \"\"\"\n",
    "        create the vanilla neural network. The number of layers and hidden units are defined in constructor.\n",
    "        \"\"\"\n",
    "        self.weights = [] # neural network weights\n",
    "        self.biases = [] # biases\n",
    "        for i in range(self.num_layers+1): # if 2, layers 0,1,2 weights {0,1,2}\n",
    "            if i==0:\n",
    "                self.weights.append(0.01*np.random.randn(self.input_dim,self.hidden_units[i]))\n",
    "                self.biases.append(np.zeros((1,self.hidden_units[i])))\n",
    "                \n",
    "            elif i<self.num_layers:\n",
    "                self.weights.append(0.01*np.random.randn(self.hidden_units[i-1], self.hidden_units[i]))\n",
    "                self.biases.append(np.zeros((1,self.hidden_units[i])))\n",
    "                \n",
    "            elif i==self.num_layers:\n",
    "                self.weights.append(0.01 * np.random.randn(self.hidden_units[i-1],self.classes))\n",
    "                self.biases.append(np.zeros((1,self.classes)))\n",
    "                \n",
    "    def forward(self, XX, yy, training = False):\n",
    "        \"\"\"\n",
    "        calculates the forward propagation\n",
    "        \"\"\"\n",
    "        self.h = [] # saving hidden layer output\n",
    "        self.drop = [] # saving the dropout values\n",
    "        for i in range(self.num_layers): # if num_layers=2, i = 0,1,\n",
    "            val = self.hid_act(np.dot(XX,self.weights[i])+self.biases[i])\n",
    "            if training:\n",
    "                self.drop.append(np.random.binomial(1,1-self.dropout_percent, size=val.shape)[0])\n",
    "                XX = val*self.drop[-1]\n",
    "            else:\n",
    "                XX = val/(1-self.dropout_percent)\n",
    "            self.h.append(XX)\n",
    "            \n",
    "        linear_output = np.dot(val, self.weights[-1])+self.biases[-1]\n",
    "        exp_scores = np.exp(linear_output)\n",
    "        probs = exp_scores/np.sum(exp_scores, axis=1, keepdims=True)\n",
    "        self.h.append(probs)\n",
    "        correct_logprobs = -np.log(probs[range(XX.shape[0]),yy])\n",
    "        data_loss = np.sum(correct_logprobs)/XX.shape[0]\n",
    "        \n",
    "        return (probs, data_loss)\n",
    "        \n",
    "    def backward(self,X_in, y_predict, y_target):\n",
    "        \"\"\"\n",
    "        calculate the backward propagation and update the weights\n",
    "        \"\"\"\n",
    "        dscores = y_predict\n",
    "        dscores[range(X_in.shape[0]),y_target] -= 1\n",
    "        dscores /= X_in.shape[0]\n",
    "        delta = dscores\n",
    "        self.dw = {}\n",
    "        self.db = {}\n",
    "        for i in reversed(range(self.num_layers+1)):\n",
    "            if i>0:\n",
    "                self.dw[i]= np.dot(self.h[i-1].T, delta)\n",
    "                self.db[i] = np.sum(delta, axis=0, keepdims=True)\n",
    "                delta = np.dot(delta, self.weights[i].T)*self.hid_act_derivative(self.h[i-1])*self.drop[i-1]\n",
    "            else:\n",
    "                self.dw[i]= np.dot(X_in.T, delta)\n",
    "                self.db[i] = np.sum(delta, axis=0, keepdims=True)\n",
    "                \n",
    "        for i in range(self.num_layers+1):\n",
    "            self.weights[i] += -self.learning_rate * (self.dw[i] + self.reg*self.dw[i])\n",
    "            self.biases[i] += -self.learning_rate * (self.db[i] + self.reg*self.db[i])\n",
    "        return None"
   ]
  },
  {
   "cell_type": "markdown",
   "metadata": {},
   "source": [
    "## Classification on MNIST dataset"
   ]
  },
  {
   "cell_type": "markdown",
   "metadata": {},
   "source": [
    "### import necessary packages"
   ]
  },
  {
   "cell_type": "code",
   "execution_count": 3,
   "metadata": {},
   "outputs": [],
   "source": [
    "from sklearn.utils import shuffle\n",
    "from sklearn import datasets\n",
    "from sklearn.model_selection import train_test_split # for splitting train/valid/test data\n",
    "import numpy as np \n",
    "import matplotlib.pyplot as plt\n",
    "%matplotlib inline\n",
    "np.random.seed(123) # setting the random seed to produce the same random numbers for getting the same result"
   ]
  },
  {
   "cell_type": "markdown",
   "metadata": {},
   "source": [
    "### import the MNIST dataset and split the dataset into train, validation"
   ]
  },
  {
   "cell_type": "code",
   "execution_count": 4,
   "metadata": {},
   "outputs": [
    {
     "name": "stderr",
     "output_type": "stream",
     "text": [
      "/home/t-praveen/.virtualenvs/py35/lib/python3.5/site-packages/sklearn/cross_validation.py:41: DeprecationWarning: This module was deprecated in version 0.18 in favor of the model_selection module into which all the refactored classes and functions are moved. Also note that the interface of the new CV iterators are different from that of this module. This module will be removed in 0.20.\n",
      "  \"This module will be removed in 0.20.\", DeprecationWarning)\n"
     ]
    }
   ],
   "source": [
    "import numpy as np\n",
    "np.random.seed(1234)\n",
    "from sklearn.datasets import fetch_mldata\n",
    "from sklearn.cross_validation import train_test_split\n",
    "from sklearn import preprocessing\n",
    "mnist = fetch_mldata('MNIST original')\n",
    "\n",
    "#preprocess the data between 0 to 1\n",
    "data = np.float32(mnist.data[:]) / 255.\n",
    "\n",
    "X_train, X_test, y_train, y_test = train_test_split(data, mnist.target, test_size=0.2, random_state=42)\n",
    "X_val, X_test, y_val, y_test = train_test_split(X_test, y_test, test_size=0.5, random_state=42)\n",
    "\n",
    "# changeing the shape of train_target and test_target as an array\n",
    "y_train = y_train.reshape(-1,).astype(int)\n",
    "y_val = y_val.reshape(-1,).astype(int)\n",
    "y_test = y_test.reshape(-1,).astype(int)"
   ]
  },
  {
   "cell_type": "markdown",
   "metadata": {},
   "source": [
    "### Neural network parameters setting (number of layers, hidden units)"
   ]
  },
  {
   "cell_type": "code",
   "execution_count": 5,
   "metadata": {},
   "outputs": [],
   "source": [
    "nn = Neural_Network(input_dim=28*28, hidden_units = [400, 400], num_layers=2, classes=10, \n",
    "                    dropout_percent=0.0,hid_act=relu, hid_act_derivative=deriv_relu)\n",
    "epochs = 50\n",
    "batch_size = 64\n",
    "num_batches = X_train.shape[0]/batch_size"
   ]
  },
  {
   "cell_type": "markdown",
   "metadata": {},
   "source": [
    "### Training and testing"
   ]
  },
  {
   "cell_type": "code",
   "execution_count": 6,
   "metadata": {},
   "outputs": [
    {
     "name": "stdout",
     "output_type": "stream",
     "text": [
      "epoch 0 train_accu 0.9144821428571429 validation_accu 0.9157142857142857 test_accu 0.9077142857142857\n",
      "epoch 1 train_accu 0.9512857142857143 validation_accu 0.9507142857142857 test_accu 0.947\n",
      "epoch 2 train_accu 0.966375 validation_accu 0.9645714285714285 test_accu 0.958\n",
      "epoch 3 train_accu 0.9753035714285714 validation_accu 0.9691428571428572 test_accu 0.9661428571428572\n",
      "epoch 4 train_accu 0.9808214285714286 validation_accu 0.9724285714285714 test_accu 0.9692857142857143\n",
      "epoch 5 train_accu 0.9808571428571429 validation_accu 0.973 test_accu 0.9692857142857143\n",
      "epoch 6 train_accu 0.9845892857142857 validation_accu 0.976 test_accu 0.9712857142857143\n",
      "epoch 7 train_accu 0.9889464285714286 validation_accu 0.9765714285714285 test_accu 0.9748571428571429\n",
      "epoch 8 train_accu 0.9901071428571429 validation_accu 0.9765714285714285 test_accu 0.9761428571428571\n",
      "epoch 9 train_accu 0.9933928571428572 validation_accu 0.979 test_accu 0.977\n",
      "epoch 10 train_accu 0.9932321428571429 validation_accu 0.9792857142857143 test_accu 0.977\n",
      "epoch 11 train_accu 0.996125 validation_accu 0.9794285714285714 test_accu 0.9782857142857143\n",
      "epoch 12 train_accu 0.9972678571428572 validation_accu 0.9795714285714285 test_accu 0.9788571428571429\n",
      "epoch 13 train_accu 0.997 validation_accu 0.9787142857142858 test_accu 0.9761428571428571\n",
      "epoch 14 train_accu 0.9981071428571429 validation_accu 0.9802857142857143 test_accu 0.9761428571428571\n",
      "epoch 15 train_accu 0.9995178571428571 validation_accu 0.9817142857142858 test_accu 0.9805714285714285\n",
      "epoch 16 train_accu 0.9994821428571429 validation_accu 0.9814285714285714 test_accu 0.9807142857142858\n",
      "epoch 17 train_accu 0.9995892857142857 validation_accu 0.9815714285714285 test_accu 0.981\n",
      "epoch 18 train_accu 0.9996785714285714 validation_accu 0.9801428571428571 test_accu 0.98\n",
      "epoch 19 train_accu 0.9999464285714286 validation_accu 0.9822857142857143 test_accu 0.9807142857142858\n",
      "epoch 20 train_accu 0.9998928571428571 validation_accu 0.9814285714285714 test_accu 0.9808571428571429\n",
      "epoch 21 train_accu 0.9999642857142857 validation_accu 0.9808571428571429 test_accu 0.9807142857142858\n",
      "epoch 22 train_accu 1.0 validation_accu 0.9818571428571429 test_accu 0.9808571428571429\n",
      "epoch 23 train_accu 0.9999821428571428 validation_accu 0.9812857142857143 test_accu 0.9804285714285714\n",
      "epoch 24 train_accu 0.9999821428571428 validation_accu 0.9814285714285714 test_accu 0.9808571428571429\n",
      "epoch 25 train_accu 1.0 validation_accu 0.9815714285714285 test_accu 0.9807142857142858\n",
      "epoch 26 train_accu 1.0 validation_accu 0.9812857142857143 test_accu 0.9807142857142858\n",
      "epoch 27 train_accu 1.0 validation_accu 0.9818571428571429 test_accu 0.9812857142857143\n",
      "epoch 28 train_accu 1.0 validation_accu 0.982 test_accu 0.9818571428571429\n",
      "epoch 29 train_accu 1.0 validation_accu 0.9814285714285714 test_accu 0.9815714285714285\n",
      "epoch 30 train_accu 1.0 validation_accu 0.9817142857142858 test_accu 0.98\n",
      "epoch 31 train_accu 1.0 validation_accu 0.9812857142857143 test_accu 0.9812857142857143\n",
      "epoch 32 train_accu 1.0 validation_accu 0.9818571428571429 test_accu 0.9812857142857143\n",
      "epoch 33 train_accu 1.0 validation_accu 0.9811428571428571 test_accu 0.9811428571428571\n",
      "epoch 34 train_accu 1.0 validation_accu 0.9814285714285714 test_accu 0.981\n",
      "epoch 35 train_accu 1.0 validation_accu 0.9812857142857143 test_accu 0.9805714285714285\n",
      "epoch 36 train_accu 1.0 validation_accu 0.9807142857142858 test_accu 0.9808571428571429\n",
      "epoch 37 train_accu 1.0 validation_accu 0.9814285714285714 test_accu 0.9808571428571429\n",
      "epoch 38 train_accu 1.0 validation_accu 0.981 test_accu 0.9811428571428571\n",
      "epoch 39 train_accu 1.0 validation_accu 0.9817142857142858 test_accu 0.9807142857142858\n",
      "epoch 40 train_accu 1.0 validation_accu 0.9814285714285714 test_accu 0.9817142857142858\n",
      "epoch 41 train_accu 1.0 validation_accu 0.9812857142857143 test_accu 0.9807142857142858\n",
      "epoch 42 train_accu 1.0 validation_accu 0.9812857142857143 test_accu 0.981\n",
      "epoch 43 train_accu 1.0 validation_accu 0.9811428571428571 test_accu 0.9801428571428571\n",
      "epoch 44 train_accu 1.0 validation_accu 0.9815714285714285 test_accu 0.9804285714285714\n",
      "epoch 45 train_accu 1.0 validation_accu 0.9812857142857143 test_accu 0.9807142857142858\n",
      "epoch 46 train_accu 1.0 validation_accu 0.9814285714285714 test_accu 0.9811428571428571\n",
      "epoch 47 train_accu 1.0 validation_accu 0.9817142857142858 test_accu 0.9811428571428571\n",
      "epoch 48 train_accu 1.0 validation_accu 0.9815714285714285 test_accu 0.9808571428571429\n",
      "epoch 49 train_accu 1.0 validation_accu 0.9815714285714285 test_accu 0.9804285714285714\n"
     ]
    }
   ],
   "source": [
    "train_loss = []\n",
    "validation_loss = []\n",
    "test_loss = []\n",
    "train_accuracy = []\n",
    "validation_accuracy = []\n",
    "test_accuracy = []\n",
    "for i in range(epochs):\n",
    "    xx,yy = shuffle(X_train, y_train) # shuffling the data\n",
    "    for j in range(int(num_batches)):\n",
    "        probabalities, loss = nn.forward(xx[j*batch_size:(j+1)*batch_size,:], yy[j*batch_size:(j+1)*batch_size], training=True)\n",
    "        nn.backward(xx[j*batch_size:(j+1)*batch_size,:],probabalities,yy[j*batch_size:(j+1)*batch_size])    \n",
    "    \n",
    "    train_prob, train_loss_ = nn.forward(X_train, y_train) #, train_loss_\n",
    "    train_accu = np.mean(np.argmax(train_prob, axis=1) == y_train)\n",
    "    train_accuracy.append(train_accu) # train accuracy of after training of one epoch finished\n",
    "    train_loss.append(train_loss_)\n",
    "    \n",
    "    val_prob, val_loss_ = nn.forward(X_val, y_val) #, val_loss_\n",
    "    val_accu = np.mean(np.argmax(val_prob, axis=1) == y_val)\n",
    "    validation_accuracy.append(val_accu) # validation accuracy\n",
    "    validation_loss.append(val_loss_)\n",
    "    \n",
    "    test_prob, test_loss_ = nn.forward(X_test, y_test) #, test_loss_\n",
    "    test_accu = np.mean(np.argmax(test_prob, axis=1) == y_test)\n",
    "    test_accuracy.append(test_accu) # test accuracy\n",
    "    test_loss.append(test_loss_)\n",
    "    print('epoch', i, 'train_accu', train_accu, 'validation_accu', val_accu, 'test_accu',test_accu)\n"
   ]
  },
  {
   "cell_type": "markdown",
   "metadata": {},
   "source": [
    "### Printing the train/valid/test accuracy after training"
   ]
  },
  {
   "cell_type": "code",
   "execution_count": 7,
   "metadata": {},
   "outputs": [
    {
     "name": "stdout",
     "output_type": "stream",
     "text": [
      "train_accuracy 1.0\n",
      "val_accuracy 0.9815714285714285\n",
      "test_accuracy 0.9804285714285714\n"
     ]
    }
   ],
   "source": [
    "print('train_accuracy', train_accuracy[-1])\n",
    "print('val_accuracy', validation_accuracy[-1])\n",
    "print('test_accuracy', test_accuracy[-1])"
   ]
  },
  {
   "cell_type": "markdown",
   "metadata": {},
   "source": [
    "### Plotting the loss values for each epoch"
   ]
  },
  {
   "cell_type": "code",
   "execution_count": 8,
   "metadata": {},
   "outputs": [
    {
     "data": {
      "image/png": "[encoded data removed]",
      "text/plain": [
       "<Figure size 432x288 with 1 Axes>"
      ]
     },
     "metadata": {},
     "output_type": "display_data"
    }
   ],
   "source": [
    "# Plotting the loss values \n",
    "plt.plot(train_loss)\n",
    "plt.plot(validation_loss)\n",
    "plt.plot(test_loss)\n",
    "plt.title('Loss values of train/valid/test')\n",
    "plt.ylabel('loss')\n",
    "plt.xlabel('epoch')\n",
    "plt.legend(['train', 'valid','test'], loc='upper right')\n",
    "plt.show()"
   ]
  },
  {
   "cell_type": "markdown",
   "metadata": {},
   "source": [
    "### Plotting the accuracy values for each epoch"
   ]
  },
  {
   "cell_type": "code",
   "execution_count": 9,
   "metadata": {},
   "outputs": [
    {
     "data": {
      "image/png": "[encoded data removed]",
      "text/plain": [
       "<Figure size 432x288 with 1 Axes>"
      ]
     },
     "metadata": {},
     "output_type": "display_data"
    }
   ],
   "source": [
    "# plotting the accuracy values\n",
    "plt.plot(train_accuracy)\n",
    "plt.plot(validation_accuracy)\n",
    "plt.plot(test_accuracy)\n",
    "plt.title('Accuracy values of train/valid/test')\n",
    "plt.ylabel('Accuracy')\n",
    "plt.xlabel('epoch')\n",
    "plt.legend(['train', 'valid','test'], loc='upper right')\n",
    "plt.show()"
   ]
  },
  {
   "cell_type": "code",
   "execution_count": null,
   "metadata": {},
   "outputs": [],
   "source": []
  }
 ],
 "metadata": {
  "kernelspec": {
   "display_name": "Python 3",
   "language": "python",
   "name": "python3"
  },
  "language_info": {
   "codemirror_mode": {
    "name": "ipython",
    "version": 3
   },
   "file_extension": ".py",
   "mimetype": "text/x-python",
   "name": "python",
   "nbconvert_exporter": "python",
   "pygments_lexer": "ipython3",
   "version": "3.5.2"
  }
 },
 "nbformat": 4,
 "nbformat_minor": 2
}
