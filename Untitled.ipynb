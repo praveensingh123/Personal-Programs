{
 "cells": [
  {
   "cell_type": "code",
   "execution_count": 4,
   "metadata": {},
   "outputs": [],
   "source": [
    "import numpy\n",
    "from keras.datasets import imdb\n",
    "from keras.models import Sequential\n",
    "from keras.layers import Dense\n",
    "from keras.layers import Flatten\n",
    "from keras.layers.embeddings import Embedding\n",
    "from keras.preprocessing import sequence\n",
    "import numpy as np\n",
    "seed = 7\n",
    "numpy.random.seed(seed)"
   ]
  },
  {
   "cell_type": "code",
   "execution_count": 5,
   "metadata": {},
   "outputs": [],
   "source": [
    "top_words = 5000\n",
    "(X_train, y_train), (X_test, y_test) = imdb.load_data(num_words = top_words)"
   ]
  },
  {
   "cell_type": "code",
   "execution_count": null,
   "metadata": {},
   "outputs": [],
   "source": []
  },
  {
   "cell_type": "code",
   "execution_count": 6,
   "metadata": {},
   "outputs": [
    {
     "name": "stdout",
     "output_type": "stream",
     "text": [
      "(25000,)\n"
     ]
    }
   ],
   "source": [
    "print(X_train.shape)"
   ]
  },
  {
   "cell_type": "code",
   "execution_count": null,
   "metadata": {},
   "outputs": [],
   "source": [
    "#print(len(X_train[6]))"
   ]
  },
  {
   "cell_type": "code",
   "execution_count": 11,
   "metadata": {},
   "outputs": [
    {
     "name": "stdout",
     "output_type": "stream",
     "text": [
      "[1, 2, 2, 2, 2, 2, 1930, 503, 2, 33, 372, 9, 40, 1930, 3363, 2, 33, 328, 84, 549, 45, 433, 377, 4, 503, 681, 1025, 4, 3363, 681, 9, 4, 64, 2, 2881, 15, 9, 131, 3445, 23, 6, 2933, 2857, 19, 567, 503, 2, 9, 4, 236, 155, 372, 842, 159, 36, 26, 3540, 3607, 42, 2024, 14, 232, 9, 2, 567, 34, 2, 772, 4, 1101, 7, 567, 934, 40, 29, 203, 30, 6, 992, 232, 269, 8, 1108, 34, 255, 2, 38, 15, 29, 80, 481, 40, 6, 2, 5, 89, 44, 32, 4, 2780, 428, 493, 11, 27, 311, 743, 4, 2, 2, 137, 68, 379, 117, 2, 428, 372, 2, 2, 2, 2, 33, 68, 499, 695, 2, 8, 2, 14, 2, 2869, 7, 255, 2, 2, 2, 2, 2134, 2, 152, 264, 42, 1425, 879, 2491, 18, 98, 216, 23, 2, 475, 81, 25, 181, 372, 8, 28, 4, 879, 2491, 8, 503, 2, 3688, 25, 17, 2, 5, 2, 5, 194, 2, 17, 25, 81, 42, 81, 25, 104, 879, 2491, 9, 64, 18, 349, 8, 595, 23, 372]\n"
     ]
    }
   ],
   "source": [
    "print(np.min(X_train))"
   ]
  },
  {
   "cell_type": "code",
   "execution_count": null,
   "metadata": {},
   "outputs": [],
   "source": [
    "print(y_train.shape)"
   ]
  },
  {
   "cell_type": "code",
   "execution_count": null,
   "metadata": {},
   "outputs": [],
   "source": []
  },
  {
   "cell_type": "code",
   "execution_count": 16,
   "metadata": {},
   "outputs": [],
   "source": [
    "max_words = 500\n",
    "X_train_1 = sequence.pad_sequences(X_train, maxlen=max_words)\n",
    "#X_test = sequence.pad_sequences(X_test, maxlen=max_words)"
   ]
  },
  {
   "cell_type": "code",
   "execution_count": 17,
   "metadata": {},
   "outputs": [
    {
     "name": "stdout",
     "output_type": "stream",
     "text": [
      "(25000, 500)\n"
     ]
    }
   ],
   "source": [
    "print(X_train_1.shape)"
   ]
  },
  {
   "cell_type": "code",
   "execution_count": 18,
   "metadata": {},
   "outputs": [
    {
     "name": "stdout",
     "output_type": "stream",
     "text": [
      "[   0    0    0    0    0    0    0    0    0    0    0    0    0    0\n",
      "    0    0    0    0    0    0    0    0    0    0    0    0    0    0\n",
      "    0    0    0    0    0    0    0    0    0    0    0    0    0    0\n",
      "    0    0    0    0    0    0    0    0    0    0    0    0    0    0\n",
      "    0    0    0    0    0    0    0    0    0    0    0    0    0    0\n",
      "    0    0    0    0    0    0    0    0    0    0    0    0    0    0\n",
      "    0    0    0    0    0    0    0    0    0    0    0    0    0    0\n",
      "    0    0    0    0    0    0    0    0    0    0    0    0    0    0\n",
      "    0    0    0    0    0    0    0    0    0    0    0    0    0    0\n",
      "    0    0    0    0    0    0    0    0    0    0    0    0    0    0\n",
      "    0    0    0    0    0    0    0    0    0    0    0    0    0    0\n",
      "    0    0    0    0    0    0    0    0    0    0    0    0    0    0\n",
      "    0    0    0    0    0    0    0    0    0    0    0    0    0    0\n",
      "    0    0    0    0    0    0    0    0    0    0    0    0    0    0\n",
      "    0    0    0    0    0    0    0    0    0    0    0    0    0    0\n",
      "    0    0    0    0    0    0    0    0    0    0    0    0    0    0\n",
      "    0    0    0    0    0    0    0    0    0    0    0    0    0    0\n",
      "    0    0    0    0    0    0    0    0    0    0    0    0    0    0\n",
      "    0    0    0    0    0    0    0    0    0    0    0    0    0    0\n",
      "    0    0    0    0    0    0    0    0    0    0    0    0    0    0\n",
      "    0    0    1   14   22   16   43  530  973 1622 1385   65  458 4468\n",
      "   66 3941    4  173   36  256    5   25  100   43  838  112   50  670\n",
      "    2    9   35  480  284    5  150    4  172  112  167    2  336  385\n",
      "   39    4  172 4536 1111   17  546   38   13  447    4  192   50   16\n",
      "    6  147 2025   19   14   22    4 1920 4613  469    4   22   71   87\n",
      "   12   16   43  530   38   76   15   13 1247    4   22   17  515   17\n",
      "   12   16  626   18    2    5   62  386   12    8  316    8  106    5\n",
      "    4 2223    2   16  480   66 3785   33    4  130   12   16   38  619\n",
      "    5   25  124   51   36  135   48   25 1415   33    6   22   12  215\n",
      "   28   77   52    5   14  407   16   82    2    8    4  107  117    2\n",
      "   15  256    4    2    7 3766    5  723   36   71   43  530  476   26\n",
      "  400  317   46    7    4    2 1029   13  104   88    4  381   15  297\n",
      "   98   32 2071   56   26  141    6  194    2   18    4  226   22   21\n",
      "  134  476   26  480    5  144   30    2   18   51   36   28  224   92\n",
      "   25  104    4  226   65   16   38 1334   88   12   16  283    5   16\n",
      " 4472  113  103   32   15   16    2   19  178   32]\n"
     ]
    }
   ],
   "source": [
    "print(X_train_1[0])"
   ]
  },
  {
   "cell_type": "code",
   "execution_count": null,
   "metadata": {},
   "outputs": [],
   "source": [
    "train_data[0]"
   ]
  },
  {
   "cell_type": "code",
   "execution_count": null,
   "metadata": {},
   "outputs": [],
   "source": []
  },
  {
   "cell_type": "code",
   "execution_count": null,
   "metadata": {},
   "outputs": [],
   "source": []
  },
  {
   "cell_type": "code",
   "execution_count": 14,
   "metadata": {},
   "outputs": [
    {
     "name": "stdout",
     "output_type": "stream",
     "text": [
      "max sentence length:  100\n",
      "min sentence length:  2\n",
      "mean: 26.2512\n",
      "std: 17.84020455488109\n",
      "label array shape: (10000,)\n",
      "unique words: 125\n",
      "[list([0, 1, 2, 3, 4])\n",
      " list([5, 6, 7, 8, 9, 10, 11, 12, 13, 14, 15, 16, 17, 18, 19, 20, 21, 22, 23, 24, 25, 26, 27, 28, 29, 30, 31, 32, 33, 34, 3, 4])\n",
      " list([35, 0, 13, 36, 37, 3, 4, 38]) ...\n",
      " list([13, 24, 71, 44, 28, 30, 31, 32, 45, 46, 34, 73, 47, 48, 2, 76, 51, 53, 26, 55, 57, 29, 37, 58, 60, 61, 62, 1, 64, 65, 66, 67, 75, 42, 43, 33, 92, 23, 49, 50, 25, 52, 54, 56, 27, 59, 63, 36, 77, 72, 3, 4, 68])\n",
      " list([110, 40, 13, 86, 31, 49, 3, 4, 101])\n",
      " list([6, 8, 84, 105, 85, 10, 16, 87, 110, 7, 13, 86, 35, 89, 41, 70, 71, 44, 46, 73, 47, 48, 76, 51, 26, 57, 29, 65, 75, 42, 56, 27, 36, 3, 4])]\n",
      "(10000,)\n"
     ]
    }
   ],
   "source": [
    "import numpy as np \n",
    "\n",
    "file = open('training-data-small.txt', 'r')\n",
    "#file = open('test.txt','r')\n",
    "\n",
    "label = [] # list for label\n",
    "no_of_data = [] # for creating the dictionary, gather all the x_data\n",
    "train_x = [] #\n",
    "for line in file:\n",
    "\tlx = line.split('\\t')\n",
    "\tly = lx[1].rstrip().split(',')\n",
    "\tlabel.append(lx[0]) # labels appending\n",
    "\ttrain_x.append(ly) # used for labeling\n",
    "\tno_of_data.extend(ly)\n",
    "\n",
    "max_len = max([len(i) for i in train_x])\n",
    "min_len = min([len(i) for i in train_x])\n",
    "mean_len = np.mean([len(i) for i in train_x])\n",
    "std_len = np.std([len(i) for i in train_x])\n",
    "\n",
    "print('max sentence length: ',max_len)\n",
    "print('min sentence length: ', min_len)\n",
    "print('mean:', mean_len)\n",
    "print('std:', std_len)\n",
    "\n",
    "# creating label array\n",
    "train_label = np.asarray(label).reshape(-1,)\n",
    "print('label array shape:', train_label.shape)\n",
    "\n",
    "train_dict = dict()\n",
    "\n",
    "for i,j in enumerate(no_of_data):\n",
    "\ttrain_dict[j] = i\n",
    "\n",
    "print('unique words:',len(train_dict.keys()))\n",
    "\n",
    "#print(train_dict)\n",
    "\n",
    "# making the dictionary start with zero\n",
    "for i,j in enumerate(train_dict.keys()):\n",
    "\ttrain_dict[j] = i+1\n",
    "\n",
    "#print(train_dict)\n",
    "\n",
    "file.close()\n",
    "\n",
    "# making the train_data as integers\n",
    "\n",
    "#for i in train_x:\n",
    "#\tfor j \n",
    "\n",
    "\n",
    "#train_data = np.asarray(train_x)\n",
    "#print(train_data)\n",
    "#print(train_data.shape)\n",
    "#print(train_data[0])\n",
    "\n",
    "\n",
    "train_data = np.asarray(train_x).reshape(-1,)\n",
    "for index,i in enumerate(train_data):\n",
    "\tfor pos,k in enumerate(i):\n",
    "\t\ttrain_data[index][pos] = train_dict[train_data[index][pos]]\n",
    "\t\t#print(ls_ara[index][j])\n",
    "\n",
    "print(train_data)\n",
    "print(train_data.shape)"
   ]
  },
  {
   "cell_type": "code",
   "execution_count": 15,
   "metadata": {},
   "outputs": [
    {
     "name": "stdout",
     "output_type": "stream",
     "text": [
      "0\n"
     ]
    }
   ],
   "source": [
    "print(np.min(np.min(train_data)))"
   ]
  },
  {
   "cell_type": "code",
   "execution_count": null,
   "metadata": {},
   "outputs": [],
   "source": []
  }
 ],
 "metadata": {
  "kernelspec": {
   "display_name": "Python 3",
   "language": "python",
   "name": "python3"
  },
  "language_info": {
   "codemirror_mode": {
    "name": "ipython",
    "version": 3
   },
   "file_extension": ".py",
   "mimetype": "text/x-python",
   "name": "python",
   "nbconvert_exporter": "python",
   "pygments_lexer": "ipython3",
   "version": "3.6.3"
  }
 },
 "nbformat": 4,
 "nbformat_minor": 2
}
